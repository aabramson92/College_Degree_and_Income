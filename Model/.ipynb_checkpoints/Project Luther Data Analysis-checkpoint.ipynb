{
 "cells": [
  {
   "cell_type": "code",
   "execution_count": 1,
   "metadata": {},
   "outputs": [
    {
     "name": "stderr",
     "output_type": "stream",
     "text": [
      "/Library/Frameworks/Python.framework/Versions/3.6/lib/python3.6/site-packages/sklearn/cross_validation.py:41: DeprecationWarning: This module was deprecated in version 0.18 in favor of the model_selection module into which all the refactored classes and functions are moved. Also note that the interface of the new CV iterators are different from that of this module. This module will be removed in 0.20.\n",
      "  \"This module will be removed in 0.20.\", DeprecationWarning)\n"
     ]
    }
   ],
   "source": [
    "import math\n",
    "import matplotlib.pyplot as plt\n",
    "import numpy as np\n",
    "import pandas as pd\n",
    "import patsy\n",
    "import re\n",
    "import requests\n",
    "import scipy.stats as stats\n",
    "import seaborn as sns\n",
    "from selenium import webdriver\n",
    "from selenium.webdriver.common.keys import Keys\n",
    "from sklearn import metrics\n",
    "from sklearn.cross_validation import cross_val_score\n",
    "from sklearn.cross_validation import KFold\n",
    "from sklearn.cross_validation import train_test_split\n",
    "from sklearn.linear_model import LinearRegression\n",
    "from sklearn.linear_model import Lasso\n",
    "from sklearn.linear_model import RidgeCV\n",
    "from sklearn.pipeline import make_pipeline\n",
    "from sklearn.preprocessing import PolynomialFeatures\n",
    "import statsmodels.api as sm\n",
    "import statsmodels.formula.api as smf\n",
    "%matplotlib inline"
   ]
  },
  {
   "cell_type": "code",
   "execution_count": 2,
   "metadata": {},
   "outputs": [],
   "source": [
    "ea = pd.read_csv('educational_attainment.csv')\n",
    "ei = pd.read_csv('education_income_simple.csv')\n",
    "df = pd.merge(ei, ea, on='county')\n",
    "df['he_pct'] = ((df['ba']+df['ma'])/df['pop'])*100\n",
    "df['le_income'] = (df['lh_income'] * ((df['less_hs'] + df['some_hs']) / df['pop']) + df['hs_income'] * (df['hs'] / df['pop']) + df['aa_income'] * ((df['sc'] + df['aa']) / df['pop'])) / ((df['less_hs'] + df['some_hs'] + df['hs'] + df['sc'] + df['aa']) / df['pop'])\n",
    "df['he_income'] = ((df['ba_income'] * (df['ba'] / df['pop'])) + (df['ma_income'] * (df['ma'] / df['pop']))) / ((df['ba'] + df['ma']) / df['pop'])\n",
    "ind = pd.read_csv('economic_industry.csv')\n",
    "ind['industrial'] = ind['mining'] + ind['construction'] + ind['manufacturing']\n",
    "ind['service'] = ind['employed'] - ind['agricultural'] - ind['industrial']\n",
    "ind['ag_pct'] = (ind['agricultural'] / ind['employed']) * 100\n",
    "ind['ind_pct'] = (ind['industrial'] / ind['employed']) * 100\n",
    "ind['svc_pct'] = (ind['service'] / ind['employed']) * 100\n",
    "ind1 = ind[['county', 'employed', 'ag_pct', 'ind_pct', 'svc_pct']]\n",
    "df1 = pd.merge(df, ind1, on='county')\n",
    "ce = pd.read_csv('county_employers.csv')\n",
    "df2 = pd.merge(df1, ce, on='county')\n",
    "df2['popest'] = df2['pop']/df2['establishments']\n",
    "lf = pd.read_csv('education_laborforce.csv')\n",
    "lf['lelf'] = ((lf['lhlf'] + lf['hslf'] + lf['sclf'])/(lf['pop2564']-lf['bapop']))*100\n",
    "lf['leue'] = ((lf['lhue'] + lf['hsue'] + lf['scue'])/(lf['lhlfc'] + lf['hslfc'] + lf['sclfc']))*100\n",
    "lf['helf'] = (lf['balf']/lf['bapop']) * 100\n",
    "lf['heue'] = (lf['baue']/lf['balfc']) * 100\n",
    "lf = lf[['county', 'lelf', 'leue', 'helf', 'heue']]\n",
    "df3 = pd.merge(df2, lf, on='county')\n",
    "mw = pd.read_csv('county_minwage.csv')\n",
    "df4 = pd.merge(df3,mw,on='county')\n",
    "df4 = df4[['le_income', 'he_pct', 'he_income', 'ag_pct', 'ind_pct', 'popest', 'lelf', 'leue', 'helf', 'heue', 'wage']]"
   ]
  },
  {
   "cell_type": "code",
   "execution_count": 3,
   "metadata": {},
   "outputs": [
    {
     "data": {
      "text/html": [
       "<table class=\"simpletable\">\n",
       "<caption>OLS Regression Results</caption>\n",
       "<tr>\n",
       "  <th>Dep. Variable:</th>        <td>le_income</td>    <th>  R-squared:         </th> <td>   0.608</td> \n",
       "</tr>\n",
       "<tr>\n",
       "  <th>Model:</th>                   <td>OLS</td>       <th>  Adj. R-squared:    </th> <td>   0.606</td> \n",
       "</tr>\n",
       "<tr>\n",
       "  <th>Method:</th>             <td>Least Squares</td>  <th>  F-statistic:       </th> <td>   460.1</td> \n",
       "</tr>\n",
       "<tr>\n",
       "  <th>Date:</th>             <td>Mon, 15 Oct 2018</td> <th>  Prob (F-statistic):</th>  <td>  0.00</td>  \n",
       "</tr>\n",
       "<tr>\n",
       "  <th>Time:</th>                 <td>13:07:47</td>     <th>  Log-Likelihood:    </th> <td> -27750.</td> \n",
       "</tr>\n",
       "<tr>\n",
       "  <th>No. Observations:</th>      <td>  2983</td>      <th>  AIC:               </th> <td>5.552e+04</td>\n",
       "</tr>\n",
       "<tr>\n",
       "  <th>Df Residuals:</th>          <td>  2972</td>      <th>  BIC:               </th> <td>5.559e+04</td>\n",
       "</tr>\n",
       "<tr>\n",
       "  <th>Df Model:</th>              <td>    10</td>      <th>                     </th>     <td> </td>    \n",
       "</tr>\n",
       "<tr>\n",
       "  <th>Covariance Type:</th>      <td>nonrobust</td>    <th>                     </th>     <td> </td>    \n",
       "</tr>\n",
       "</table>\n",
       "<table class=\"simpletable\">\n",
       "<tr>\n",
       "      <td></td>         <th>coef</th>     <th>std err</th>      <th>t</th>      <th>P>|t|</th>  <th>[0.025</th>    <th>0.975]</th>  \n",
       "</tr>\n",
       "<tr>\n",
       "  <th>Intercept</th> <td>  638.2606</td> <td> 1028.247</td> <td>    0.621</td> <td> 0.535</td> <td>-1377.888</td> <td> 2654.409</td>\n",
       "</tr>\n",
       "<tr>\n",
       "  <th>he_pct</th>    <td>   29.0147</td> <td>    9.057</td> <td>    3.204</td> <td> 0.001</td> <td>   11.257</td> <td>   46.772</td>\n",
       "</tr>\n",
       "<tr>\n",
       "  <th>he_income</th> <td>    0.2413</td> <td>    0.008</td> <td>   31.005</td> <td> 0.000</td> <td>    0.226</td> <td>    0.257</td>\n",
       "</tr>\n",
       "<tr>\n",
       "  <th>ag_pct</th>    <td>  -13.8823</td> <td>   11.112</td> <td>   -1.249</td> <td> 0.212</td> <td>  -35.669</td> <td>    7.905</td>\n",
       "</tr>\n",
       "<tr>\n",
       "  <th>ind_pct</th>   <td>   66.7809</td> <td>    9.449</td> <td>    7.068</td> <td> 0.000</td> <td>   48.254</td> <td>   85.308</td>\n",
       "</tr>\n",
       "<tr>\n",
       "  <th>popest</th>    <td>   36.1810</td> <td>    4.764</td> <td>    7.595</td> <td> 0.000</td> <td>   26.841</td> <td>   45.521</td>\n",
       "</tr>\n",
       "<tr>\n",
       "  <th>lelf</th>      <td>  147.5881</td> <td>    8.639</td> <td>   17.085</td> <td> 0.000</td> <td>  130.650</td> <td>  164.526</td>\n",
       "</tr>\n",
       "<tr>\n",
       "  <th>leue</th>      <td> -385.5755</td> <td>   19.784</td> <td>  -19.489</td> <td> 0.000</td> <td> -424.367</td> <td> -346.784</td>\n",
       "</tr>\n",
       "<tr>\n",
       "  <th>helf</th>      <td>   24.4927</td> <td>   10.986</td> <td>    2.229</td> <td> 0.026</td> <td>    2.952</td> <td>   46.033</td>\n",
       "</tr>\n",
       "<tr>\n",
       "  <th>heue</th>      <td>  -22.8790</td> <td>   27.803</td> <td>   -0.823</td> <td> 0.411</td> <td>  -77.394</td> <td>   31.636</td>\n",
       "</tr>\n",
       "<tr>\n",
       "  <th>wage</th>      <td>  430.5952</td> <td>   65.246</td> <td>    6.600</td> <td> 0.000</td> <td>  302.663</td> <td>  558.528</td>\n",
       "</tr>\n",
       "</table>\n",
       "<table class=\"simpletable\">\n",
       "<tr>\n",
       "  <th>Omnibus:</th>       <td>413.515</td> <th>  Durbin-Watson:     </th> <td>   2.045</td> \n",
       "</tr>\n",
       "<tr>\n",
       "  <th>Prob(Omnibus):</th> <td> 0.000</td>  <th>  Jarque-Bera (JB):  </th> <td>1270.857</td> \n",
       "</tr>\n",
       "<tr>\n",
       "  <th>Skew:</th>          <td> 0.714</td>  <th>  Prob(JB):          </th> <td>1.09e-276</td>\n",
       "</tr>\n",
       "<tr>\n",
       "  <th>Kurtosis:</th>      <td> 5.861</td>  <th>  Cond. No.          </th> <td>1.01e+06</td> \n",
       "</tr>\n",
       "</table><br/><br/>Warnings:<br/>[1] Standard Errors assume that the covariance matrix of the errors is correctly specified.<br/>[2] The condition number is large, 1.01e+06. This might indicate that there are<br/>strong multicollinearity or other numerical problems."
      ],
      "text/plain": [
       "<class 'statsmodels.iolib.summary.Summary'>\n",
       "\"\"\"\n",
       "                            OLS Regression Results                            \n",
       "==============================================================================\n",
       "Dep. Variable:              le_income   R-squared:                       0.608\n",
       "Model:                            OLS   Adj. R-squared:                  0.606\n",
       "Method:                 Least Squares   F-statistic:                     460.1\n",
       "Date:                Mon, 15 Oct 2018   Prob (F-statistic):               0.00\n",
       "Time:                        13:07:47   Log-Likelihood:                -27750.\n",
       "No. Observations:                2983   AIC:                         5.552e+04\n",
       "Df Residuals:                    2972   BIC:                         5.559e+04\n",
       "Df Model:                          10                                         \n",
       "Covariance Type:            nonrobust                                         \n",
       "==============================================================================\n",
       "                 coef    std err          t      P>|t|      [0.025      0.975]\n",
       "------------------------------------------------------------------------------\n",
       "Intercept    638.2606   1028.247      0.621      0.535   -1377.888    2654.409\n",
       "he_pct        29.0147      9.057      3.204      0.001      11.257      46.772\n",
       "he_income      0.2413      0.008     31.005      0.000       0.226       0.257\n",
       "ag_pct       -13.8823     11.112     -1.249      0.212     -35.669       7.905\n",
       "ind_pct       66.7809      9.449      7.068      0.000      48.254      85.308\n",
       "popest        36.1810      4.764      7.595      0.000      26.841      45.521\n",
       "lelf         147.5881      8.639     17.085      0.000     130.650     164.526\n",
       "leue        -385.5755     19.784    -19.489      0.000    -424.367    -346.784\n",
       "helf          24.4927     10.986      2.229      0.026       2.952      46.033\n",
       "heue         -22.8790     27.803     -0.823      0.411     -77.394      31.636\n",
       "wage         430.5952     65.246      6.600      0.000     302.663     558.528\n",
       "==============================================================================\n",
       "Omnibus:                      413.515   Durbin-Watson:                   2.045\n",
       "Prob(Omnibus):                  0.000   Jarque-Bera (JB):             1270.857\n",
       "Skew:                           0.714   Prob(JB):                    1.09e-276\n",
       "Kurtosis:                       5.861   Cond. No.                     1.01e+06\n",
       "==============================================================================\n",
       "\n",
       "Warnings:\n",
       "[1] Standard Errors assume that the covariance matrix of the errors is correctly specified.\n",
       "[2] The condition number is large, 1.01e+06. This might indicate that there are\n",
       "strong multicollinearity or other numerical problems.\n",
       "\"\"\""
      ]
     },
     "execution_count": 3,
     "metadata": {},
     "output_type": "execute_result"
    }
   ],
   "source": [
    "y, x = patsy.dmatrices('le_income ~ he_pct + he_income + ag_pct + ind_pct + popest + lelf + leue + helf + heue + wage', data=df4)\n",
    "model = sm.OLS(y, x)\n",
    "fit = model.fit()\n",
    "fit.summary()"
   ]
  },
  {
   "cell_type": "code",
   "execution_count": 4,
   "metadata": {},
   "outputs": [
    {
     "name": "stderr",
     "output_type": "stream",
     "text": [
      "/Library/Frameworks/Python.framework/Versions/3.6/lib/python3.6/site-packages/sklearn/linear_model/base.py:509: RuntimeWarning: internal gelsd driver lwork query error, required iwork dimension not returned. This is likely the result of LAPACK bug 0038, fixed in LAPACK 3.2.2 (released July 21, 2010). Falling back to 'gelss' driver.\n",
      "  linalg.lstsq(X, y)\n"
     ]
    },
    {
     "data": {
      "text/plain": [
       "0.6075415735665364"
      ]
     },
     "execution_count": 4,
     "metadata": {},
     "output_type": "execute_result"
    }
   ],
   "source": [
    "lr = LinearRegression()\n",
    "X = df4[['he_pct', 'he_income', 'ag_pct', 'ind_pct', 'popest', 'lelf', 'leue', 'helf', 'heue', 'wage']]\n",
    "y = df4['le_income']\n",
    "lr.fit(X, y)\n",
    "lr.score(X, y)"
   ]
  },
  {
   "cell_type": "code",
   "execution_count": 5,
   "metadata": {},
   "outputs": [
    {
     "data": {
      "text/plain": [
       "0.5886690507729498"
      ]
     },
     "execution_count": 5,
     "metadata": {},
     "output_type": "execute_result"
    }
   ],
   "source": [
    "X_train, X_test, y_train, y_test = train_test_split(X, y, test_size=0.3, random_state = 42)\n",
    "lr.fit(X_train, y_train)\n",
    "lr.score(X_test, y_test)"
   ]
  },
  {
   "cell_type": "code",
   "execution_count": 6,
   "metadata": {},
   "outputs": [
    {
     "name": "stdout",
     "output_type": "stream",
     "text": [
      "Mean squared error for each cross-val: [-12445396.86219263  -7862769.09322891  -7230997.98088404\n",
      "  -5877124.77740704  -5093136.91481625  -4583995.66024417\n",
      "  -5985163.12133015  -6257899.54072709  -6939582.4012525\n",
      "  -9894364.4404101 ] \n",
      "\n",
      "Mean squared error of all cross vals: -7217043.079249287 +- 2251103.1944950833\n"
     ]
    },
    {
     "name": "stderr",
     "output_type": "stream",
     "text": [
      "/Library/Frameworks/Python.framework/Versions/3.6/lib/python3.6/site-packages/sklearn/metrics/scorer.py:100: DeprecationWarning: Scoring method mean_squared_error was renamed to neg_mean_squared_error in version 0.18 and will be removed in 0.20.\n",
      "  sample_weight=sample_weight)\n",
      "/Library/Frameworks/Python.framework/Versions/3.6/lib/python3.6/site-packages/sklearn/metrics/scorer.py:100: DeprecationWarning: Scoring method mean_squared_error was renamed to neg_mean_squared_error in version 0.18 and will be removed in 0.20.\n",
      "  sample_weight=sample_weight)\n",
      "/Library/Frameworks/Python.framework/Versions/3.6/lib/python3.6/site-packages/sklearn/metrics/scorer.py:100: DeprecationWarning: Scoring method mean_squared_error was renamed to neg_mean_squared_error in version 0.18 and will be removed in 0.20.\n",
      "  sample_weight=sample_weight)\n",
      "/Library/Frameworks/Python.framework/Versions/3.6/lib/python3.6/site-packages/sklearn/metrics/scorer.py:100: DeprecationWarning: Scoring method mean_squared_error was renamed to neg_mean_squared_error in version 0.18 and will be removed in 0.20.\n",
      "  sample_weight=sample_weight)\n",
      "/Library/Frameworks/Python.framework/Versions/3.6/lib/python3.6/site-packages/sklearn/metrics/scorer.py:100: DeprecationWarning: Scoring method mean_squared_error was renamed to neg_mean_squared_error in version 0.18 and will be removed in 0.20.\n",
      "  sample_weight=sample_weight)\n",
      "/Library/Frameworks/Python.framework/Versions/3.6/lib/python3.6/site-packages/sklearn/metrics/scorer.py:100: DeprecationWarning: Scoring method mean_squared_error was renamed to neg_mean_squared_error in version 0.18 and will be removed in 0.20.\n",
      "  sample_weight=sample_weight)\n",
      "/Library/Frameworks/Python.framework/Versions/3.6/lib/python3.6/site-packages/sklearn/metrics/scorer.py:100: DeprecationWarning: Scoring method mean_squared_error was renamed to neg_mean_squared_error in version 0.18 and will be removed in 0.20.\n",
      "  sample_weight=sample_weight)\n",
      "/Library/Frameworks/Python.framework/Versions/3.6/lib/python3.6/site-packages/sklearn/metrics/scorer.py:100: DeprecationWarning: Scoring method mean_squared_error was renamed to neg_mean_squared_error in version 0.18 and will be removed in 0.20.\n",
      "  sample_weight=sample_weight)\n",
      "/Library/Frameworks/Python.framework/Versions/3.6/lib/python3.6/site-packages/sklearn/metrics/scorer.py:100: DeprecationWarning: Scoring method mean_squared_error was renamed to neg_mean_squared_error in version 0.18 and will be removed in 0.20.\n",
      "  sample_weight=sample_weight)\n",
      "/Library/Frameworks/Python.framework/Versions/3.6/lib/python3.6/site-packages/sklearn/metrics/scorer.py:100: DeprecationWarning: Scoring method mean_squared_error was renamed to neg_mean_squared_error in version 0.18 and will be removed in 0.20.\n",
      "  sample_weight=sample_weight)\n"
     ]
    }
   ],
   "source": [
    "lr = LinearRegression()\n",
    "scores = cross_val_score(lr, X, y, cv=10, scoring='mean_squared_error')\n",
    "\n",
    "print('Mean squared error for each cross-val:',scores,'\\n')\n",
    "print('Mean squared error of all cross vals:',np.mean(scores),'+-',np.std(scores))"
   ]
  },
  {
   "cell_type": "code",
   "execution_count": 8,
   "metadata": {},
   "outputs": [
    {
     "data": {
      "image/png": "[encoded data removed]",
      "text/plain": [
       "<Figure size 432x288 with 1 Axes>"
      ]
     },
     "metadata": {
      "needs_background": "light"
     },
     "output_type": "display_data"
    }
   ],
   "source": [
    "lr.fit(X, y)\n",
    "df4['predict'] = lr.predict(X)\n",
    "df4['residual'] = df4['le_income'] - df4['predict']\n",
    "p = df4['predict']\n",
    "r = df4['residual']\n",
    "plt.scatter(p,r);"
   ]
  },
  {
   "cell_type": "code",
   "execution_count": 9,
   "metadata": {},
   "outputs": [
    {
     "data": {
      "image/png": "[encoded data removed]",
      "text/plain": [
       "<Figure size 432x288 with 1 Axes>"
      ]
     },
     "metadata": {
      "needs_background": "light"
     },
     "output_type": "display_data"
    }
   ],
   "source": [
    "plt.hist(r, bins=50)\n",
    "plt.title(\"Distribution of Residuals\")\n",
    "plt.xlabel(\"Residual Quanity\")\n",
    "plt.ylabel(\"Frequency\");"
   ]
  },
  {
   "cell_type": "code",
   "execution_count": 10,
   "metadata": {},
   "outputs": [
    {
     "data": {
      "image/png": "[encoded data removed]",
      "text/plain": [
       "<Figure size 432x288 with 1 Axes>"
      ]
     },
     "metadata": {
      "needs_background": "light"
     },
     "output_type": "display_data"
    }
   ],
   "source": [
    "stats.probplot(r, dist=\"norm\", plot=plt)\n",
    "plt.title(\"Normal Q-Q plot\");"
   ]
  },
  {
   "cell_type": "code",
   "execution_count": 11,
   "metadata": {},
   "outputs": [
    {
     "data": {
      "text/plain": [
       "0.6075415711354031"
      ]
     },
     "execution_count": 11,
     "metadata": {},
     "output_type": "execute_result"
    }
   ],
   "source": [
    "ri = RidgeCV(alphas=(0.1, 0.2, 0.3, 0.4, 0.5, 0.6, 0.7, 0.8, 0.9, 1.0))\n",
    "rifit = ri.fit(X, y)\n",
    "rifit.score(X, y)"
   ]
  },
  {
   "cell_type": "code",
   "execution_count": 12,
   "metadata": {},
   "outputs": [
    {
     "data": {
      "text/plain": [
       "0.6075414235265211"
      ]
     },
     "execution_count": 12,
     "metadata": {},
     "output_type": "execute_result"
    }
   ],
   "source": [
    "la = Lasso(alpha=1)\n",
    "lafit = la.fit(X, y)\n",
    "lafit.score(X, y)"
   ]
  },
  {
   "cell_type": "code",
   "execution_count": 13,
   "metadata": {},
   "outputs": [
    {
     "name": "stdout",
     "output_type": "stream",
     "text": [
      "MSE for each cross-val: [-12445553.60669885  -7863084.67693727  -7230838.93078432\n",
      "  -5877130.11443133  -5093054.81835635  -4583867.01578098\n",
      "  -5985355.16214233  -6257917.95335236  -6939302.89339343\n",
      "  -9893878.24717102] \n",
      "\n",
      "MSE of all cross vals: -7216998.341904822 +- 2251105.366555641\n"
     ]
    },
    {
     "name": "stderr",
     "output_type": "stream",
     "text": [
      "/Library/Frameworks/Python.framework/Versions/3.6/lib/python3.6/site-packages/sklearn/metrics/scorer.py:100: DeprecationWarning: Scoring method mean_squared_error was renamed to neg_mean_squared_error in version 0.18 and will be removed in 0.20.\n",
      "  sample_weight=sample_weight)\n",
      "/Library/Frameworks/Python.framework/Versions/3.6/lib/python3.6/site-packages/sklearn/metrics/scorer.py:100: DeprecationWarning: Scoring method mean_squared_error was renamed to neg_mean_squared_error in version 0.18 and will be removed in 0.20.\n",
      "  sample_weight=sample_weight)\n",
      "/Library/Frameworks/Python.framework/Versions/3.6/lib/python3.6/site-packages/sklearn/metrics/scorer.py:100: DeprecationWarning: Scoring method mean_squared_error was renamed to neg_mean_squared_error in version 0.18 and will be removed in 0.20.\n",
      "  sample_weight=sample_weight)\n",
      "/Library/Frameworks/Python.framework/Versions/3.6/lib/python3.6/site-packages/sklearn/metrics/scorer.py:100: DeprecationWarning: Scoring method mean_squared_error was renamed to neg_mean_squared_error in version 0.18 and will be removed in 0.20.\n",
      "  sample_weight=sample_weight)\n",
      "/Library/Frameworks/Python.framework/Versions/3.6/lib/python3.6/site-packages/sklearn/metrics/scorer.py:100: DeprecationWarning: Scoring method mean_squared_error was renamed to neg_mean_squared_error in version 0.18 and will be removed in 0.20.\n",
      "  sample_weight=sample_weight)\n",
      "/Library/Frameworks/Python.framework/Versions/3.6/lib/python3.6/site-packages/sklearn/metrics/scorer.py:100: DeprecationWarning: Scoring method mean_squared_error was renamed to neg_mean_squared_error in version 0.18 and will be removed in 0.20.\n",
      "  sample_weight=sample_weight)\n",
      "/Library/Frameworks/Python.framework/Versions/3.6/lib/python3.6/site-packages/sklearn/metrics/scorer.py:100: DeprecationWarning: Scoring method mean_squared_error was renamed to neg_mean_squared_error in version 0.18 and will be removed in 0.20.\n",
      "  sample_weight=sample_weight)\n",
      "/Library/Frameworks/Python.framework/Versions/3.6/lib/python3.6/site-packages/sklearn/metrics/scorer.py:100: DeprecationWarning: Scoring method mean_squared_error was renamed to neg_mean_squared_error in version 0.18 and will be removed in 0.20.\n",
      "  sample_weight=sample_weight)\n",
      "/Library/Frameworks/Python.framework/Versions/3.6/lib/python3.6/site-packages/sklearn/metrics/scorer.py:100: DeprecationWarning: Scoring method mean_squared_error was renamed to neg_mean_squared_error in version 0.18 and will be removed in 0.20.\n",
      "  sample_weight=sample_weight)\n",
      "/Library/Frameworks/Python.framework/Versions/3.6/lib/python3.6/site-packages/sklearn/metrics/scorer.py:100: DeprecationWarning: Scoring method mean_squared_error was renamed to neg_mean_squared_error in version 0.18 and will be removed in 0.20.\n",
      "  sample_weight=sample_weight)\n"
     ]
    }
   ],
   "source": [
    "scores = cross_val_score(ri, X, y, cv=10, scoring='mean_squared_error')\n",
    "print('MSE for each cross-val:',scores,'\\n')\n",
    "print('MSE of all cross vals:',np.mean(scores),'+-',np.std(scores))"
   ]
  },
  {
   "cell_type": "code",
   "execution_count": 14,
   "metadata": {},
   "outputs": [
    {
     "name": "stdout",
     "output_type": "stream",
     "text": [
      "MSE for each cross-val: [-12445389.48208726  -7863504.80903178  -7230137.38943256\n",
      "  -5877326.38737245  -5092547.04591226  -4583454.53972835\n",
      "  -5985734.24288685  -6258005.41530924  -6939063.65450789\n",
      "  -9893897.79041924] \n",
      "\n",
      "MSE of all cross vals: -7216906.075668787 +- 2251144.183558836\n"
     ]
    },
    {
     "name": "stderr",
     "output_type": "stream",
     "text": [
      "/Library/Frameworks/Python.framework/Versions/3.6/lib/python3.6/site-packages/sklearn/metrics/scorer.py:100: DeprecationWarning: Scoring method mean_squared_error was renamed to neg_mean_squared_error in version 0.18 and will be removed in 0.20.\n",
      "  sample_weight=sample_weight)\n",
      "/Library/Frameworks/Python.framework/Versions/3.6/lib/python3.6/site-packages/sklearn/metrics/scorer.py:100: DeprecationWarning: Scoring method mean_squared_error was renamed to neg_mean_squared_error in version 0.18 and will be removed in 0.20.\n",
      "  sample_weight=sample_weight)\n",
      "/Library/Frameworks/Python.framework/Versions/3.6/lib/python3.6/site-packages/sklearn/metrics/scorer.py:100: DeprecationWarning: Scoring method mean_squared_error was renamed to neg_mean_squared_error in version 0.18 and will be removed in 0.20.\n",
      "  sample_weight=sample_weight)\n",
      "/Library/Frameworks/Python.framework/Versions/3.6/lib/python3.6/site-packages/sklearn/metrics/scorer.py:100: DeprecationWarning: Scoring method mean_squared_error was renamed to neg_mean_squared_error in version 0.18 and will be removed in 0.20.\n",
      "  sample_weight=sample_weight)\n",
      "/Library/Frameworks/Python.framework/Versions/3.6/lib/python3.6/site-packages/sklearn/metrics/scorer.py:100: DeprecationWarning: Scoring method mean_squared_error was renamed to neg_mean_squared_error in version 0.18 and will be removed in 0.20.\n",
      "  sample_weight=sample_weight)\n",
      "/Library/Frameworks/Python.framework/Versions/3.6/lib/python3.6/site-packages/sklearn/metrics/scorer.py:100: DeprecationWarning: Scoring method mean_squared_error was renamed to neg_mean_squared_error in version 0.18 and will be removed in 0.20.\n",
      "  sample_weight=sample_weight)\n",
      "/Library/Frameworks/Python.framework/Versions/3.6/lib/python3.6/site-packages/sklearn/metrics/scorer.py:100: DeprecationWarning: Scoring method mean_squared_error was renamed to neg_mean_squared_error in version 0.18 and will be removed in 0.20.\n",
      "  sample_weight=sample_weight)\n",
      "/Library/Frameworks/Python.framework/Versions/3.6/lib/python3.6/site-packages/sklearn/metrics/scorer.py:100: DeprecationWarning: Scoring method mean_squared_error was renamed to neg_mean_squared_error in version 0.18 and will be removed in 0.20.\n",
      "  sample_weight=sample_weight)\n",
      "/Library/Frameworks/Python.framework/Versions/3.6/lib/python3.6/site-packages/sklearn/metrics/scorer.py:100: DeprecationWarning: Scoring method mean_squared_error was renamed to neg_mean_squared_error in version 0.18 and will be removed in 0.20.\n",
      "  sample_weight=sample_weight)\n",
      "/Library/Frameworks/Python.framework/Versions/3.6/lib/python3.6/site-packages/sklearn/metrics/scorer.py:100: DeprecationWarning: Scoring method mean_squared_error was renamed to neg_mean_squared_error in version 0.18 and will be removed in 0.20.\n",
      "  sample_weight=sample_weight)\n"
     ]
    }
   ],
   "source": [
    "scores = cross_val_score(la, X, y, cv=10, scoring='mean_squared_error')\n",
    "print('MSE for each cross-val:',scores,'\\n')\n",
    "print('MSE of all cross vals:',np.mean(scores),'+-',np.std(scores))"
   ]
  },
  {
   "cell_type": "code",
   "execution_count": 15,
   "metadata": {},
   "outputs": [
    {
     "name": "stdout",
     "output_type": "stream",
     "text": [
      "0.6134867319162269\n",
      "0.5934063459118619\n"
     ]
    }
   ],
   "source": [
    "X_train, X_test, y_train, y_test = train_test_split(X, y, test_size=0.3, random_state = 42)\n",
    "ri.fit(X_train, y_train)\n",
    "print(lr.score(X_train, y_train))\n",
    "print(lr.score(X_test, y_test))"
   ]
  },
  {
   "cell_type": "code",
   "execution_count": 16,
   "metadata": {},
   "outputs": [
    {
     "name": "stdout",
     "output_type": "stream",
     "text": [
      "0.6134867319162269\n",
      "0.5934063459118619\n"
     ]
    }
   ],
   "source": [
    "X_train, X_test, y_train, y_test = train_test_split(X, y, test_size=0.3, random_state = 42)\n",
    "la.fit(X_train, y_train)\n",
    "print(lr.score(X_train, y_train))\n",
    "print(lr.score(X_test, y_test))"
   ]
  },
  {
   "cell_type": "code",
   "execution_count": null,
   "metadata": {},
   "outputs": [],
   "source": []
  },
  {
   "cell_type": "code",
   "execution_count": null,
   "metadata": {},
   "outputs": [],
   "source": []
  }
 ],
 "metadata": {
  "kernelspec": {
   "display_name": "Python 3",
   "language": "python",
   "name": "python3"
  },
  "language_info": {
   "codemirror_mode": {
    "name": "ipython",
    "version": 3
   },
   "file_extension": ".py",
   "mimetype": "text/x-python",
   "name": "python",
   "nbconvert_exporter": "python",
   "pygments_lexer": "ipython3",
   "version": "3.6.5"
  }
 },
 "nbformat": 4,
 "nbformat_minor": 2
}
